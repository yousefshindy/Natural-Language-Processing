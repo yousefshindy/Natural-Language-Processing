{
  "nbformat": 4,
  "nbformat_minor": 0,
  "metadata": {
    "colab": {
      "provenance": [],
      "gpuType": "T4"
    },
    "kernelspec": {
      "name": "python3",
      "display_name": "Python 3"
    },
    "language_info": {
      "name": "python"
    },
    "accelerator": "GPU"
  },
  "cells": [
    {
      "cell_type": "markdown",
      "source": [
        "# **Installing the Necessary Libraries**"
      ],
      "metadata": {
        "id": "KSf1zES44ltr"
      }
    },
    {
      "cell_type": "code",
      "source": [
        "!pip install tensorflow\n",
        "!pip install bert-tensorflow\n",
        "!pip install --upgrade tensorflow\n",
        "!pip install --upgrade tensorflow-hub\n",
        "!pip install transformers\n",
        "!pip install bert-tensorflow"
      ],
      "metadata": {
        "colab": {
          "base_uri": "https://localhost:8080/"
        },
        "id": "Qm5ICw9HvSOC",
        "outputId": "47987f2a-c644-4d3d-9c11-e5b3006cd6db"
      },
      "execution_count": 1,
      "outputs": [
        {
          "output_type": "stream",
          "name": "stdout",
          "text": [
            "Looking in indexes: https://pypi.org/simple, https://us-python.pkg.dev/colab-wheels/public/simple/\n",
            "Requirement already satisfied: tensorflow in /usr/local/lib/python3.10/dist-packages (2.12.0)\n",
            "Requirement already satisfied: absl-py>=1.0.0 in /usr/local/lib/python3.10/dist-packages (from tensorflow) (1.4.0)\n",
            "Requirement already satisfied: astunparse>=1.6.0 in /usr/local/lib/python3.10/dist-packages (from tensorflow) (1.6.3)\n",
            "Requirement already satisfied: flatbuffers>=2.0 in /usr/local/lib/python3.10/dist-packages (from tensorflow) (23.3.3)\n",
            "Requirement already satisfied: gast<=0.4.0,>=0.2.1 in /usr/local/lib/python3.10/dist-packages (from tensorflow) (0.4.0)\n",
            "Requirement already satisfied: google-pasta>=0.1.1 in /usr/local/lib/python3.10/dist-packages (from tensorflow) (0.2.0)\n",
            "Requirement already satisfied: grpcio<2.0,>=1.24.3 in /usr/local/lib/python3.10/dist-packages (from tensorflow) (1.54.0)\n",
            "Requirement already satisfied: h5py>=2.9.0 in /usr/local/lib/python3.10/dist-packages (from tensorflow) (3.8.0)\n",
            "Requirement already satisfied: jax>=0.3.15 in /usr/local/lib/python3.10/dist-packages (from tensorflow) (0.4.10)\n",
            "Requirement already satisfied: keras<2.13,>=2.12.0 in /usr/local/lib/python3.10/dist-packages (from tensorflow) (2.12.0)\n",
            "Requirement already satisfied: libclang>=13.0.0 in /usr/local/lib/python3.10/dist-packages (from tensorflow) (16.0.0)\n",
            "Requirement already satisfied: numpy<1.24,>=1.22 in /usr/local/lib/python3.10/dist-packages (from tensorflow) (1.22.4)\n",
            "Requirement already satisfied: opt-einsum>=2.3.2 in /usr/local/lib/python3.10/dist-packages (from tensorflow) (3.3.0)\n",
            "Requirement already satisfied: packaging in /usr/local/lib/python3.10/dist-packages (from tensorflow) (23.1)\n",
            "Requirement already satisfied: protobuf!=4.21.0,!=4.21.1,!=4.21.2,!=4.21.3,!=4.21.4,!=4.21.5,<5.0.0dev,>=3.20.3 in /usr/local/lib/python3.10/dist-packages (from tensorflow) (3.20.3)\n",
            "Requirement already satisfied: setuptools in /usr/local/lib/python3.10/dist-packages (from tensorflow) (67.7.2)\n",
            "Requirement already satisfied: six>=1.12.0 in /usr/local/lib/python3.10/dist-packages (from tensorflow) (1.16.0)\n",
            "Requirement already satisfied: tensorboard<2.13,>=2.12 in /usr/local/lib/python3.10/dist-packages (from tensorflow) (2.12.2)\n",
            "Requirement already satisfied: tensorflow-estimator<2.13,>=2.12.0 in /usr/local/lib/python3.10/dist-packages (from tensorflow) (2.12.0)\n",
            "Requirement already satisfied: termcolor>=1.1.0 in /usr/local/lib/python3.10/dist-packages (from tensorflow) (2.3.0)\n",
            "Requirement already satisfied: typing-extensions>=3.6.6 in /usr/local/lib/python3.10/dist-packages (from tensorflow) (4.5.0)\n",
            "Requirement already satisfied: wrapt<1.15,>=1.11.0 in /usr/local/lib/python3.10/dist-packages (from tensorflow) (1.14.1)\n",
            "Requirement already satisfied: tensorflow-io-gcs-filesystem>=0.23.1 in /usr/local/lib/python3.10/dist-packages (from tensorflow) (0.32.0)\n",
            "Requirement already satisfied: wheel<1.0,>=0.23.0 in /usr/local/lib/python3.10/dist-packages (from astunparse>=1.6.0->tensorflow) (0.40.0)\n",
            "Requirement already satisfied: ml-dtypes>=0.1.0 in /usr/local/lib/python3.10/dist-packages (from jax>=0.3.15->tensorflow) (0.1.0)\n",
            "Requirement already satisfied: scipy>=1.7 in /usr/local/lib/python3.10/dist-packages (from jax>=0.3.15->tensorflow) (1.10.1)\n",
            "Requirement already satisfied: google-auth<3,>=1.6.3 in /usr/local/lib/python3.10/dist-packages (from tensorboard<2.13,>=2.12->tensorflow) (2.17.3)\n",
            "Requirement already satisfied: google-auth-oauthlib<1.1,>=0.5 in /usr/local/lib/python3.10/dist-packages (from tensorboard<2.13,>=2.12->tensorflow) (1.0.0)\n",
            "Requirement already satisfied: markdown>=2.6.8 in /usr/local/lib/python3.10/dist-packages (from tensorboard<2.13,>=2.12->tensorflow) (3.4.3)\n",
            "Requirement already satisfied: requests<3,>=2.21.0 in /usr/local/lib/python3.10/dist-packages (from tensorboard<2.13,>=2.12->tensorflow) (2.27.1)\n",
            "Requirement already satisfied: tensorboard-data-server<0.8.0,>=0.7.0 in /usr/local/lib/python3.10/dist-packages (from tensorboard<2.13,>=2.12->tensorflow) (0.7.0)\n",
            "Requirement already satisfied: tensorboard-plugin-wit>=1.6.0 in /usr/local/lib/python3.10/dist-packages (from tensorboard<2.13,>=2.12->tensorflow) (1.8.1)\n",
            "Requirement already satisfied: werkzeug>=1.0.1 in /usr/local/lib/python3.10/dist-packages (from tensorboard<2.13,>=2.12->tensorflow) (2.3.0)\n",
            "Requirement already satisfied: cachetools<6.0,>=2.0.0 in /usr/local/lib/python3.10/dist-packages (from google-auth<3,>=1.6.3->tensorboard<2.13,>=2.12->tensorflow) (5.3.0)\n",
            "Requirement already satisfied: pyasn1-modules>=0.2.1 in /usr/local/lib/python3.10/dist-packages (from google-auth<3,>=1.6.3->tensorboard<2.13,>=2.12->tensorflow) (0.3.0)\n",
            "Requirement already satisfied: rsa<5,>=3.1.4 in /usr/local/lib/python3.10/dist-packages (from google-auth<3,>=1.6.3->tensorboard<2.13,>=2.12->tensorflow) (4.9)\n",
            "Requirement already satisfied: requests-oauthlib>=0.7.0 in /usr/local/lib/python3.10/dist-packages (from google-auth-oauthlib<1.1,>=0.5->tensorboard<2.13,>=2.12->tensorflow) (1.3.1)\n",
            "Requirement already satisfied: urllib3<1.27,>=1.21.1 in /usr/local/lib/python3.10/dist-packages (from requests<3,>=2.21.0->tensorboard<2.13,>=2.12->tensorflow) (1.26.15)\n",
            "Requirement already satisfied: certifi>=2017.4.17 in /usr/local/lib/python3.10/dist-packages (from requests<3,>=2.21.0->tensorboard<2.13,>=2.12->tensorflow) (2022.12.7)\n",
            "Requirement already satisfied: charset-normalizer~=2.0.0 in /usr/local/lib/python3.10/dist-packages (from requests<3,>=2.21.0->tensorboard<2.13,>=2.12->tensorflow) (2.0.12)\n",
            "Requirement already satisfied: idna<4,>=2.5 in /usr/local/lib/python3.10/dist-packages (from requests<3,>=2.21.0->tensorboard<2.13,>=2.12->tensorflow) (3.4)\n",
            "Requirement already satisfied: MarkupSafe>=2.1.1 in /usr/local/lib/python3.10/dist-packages (from werkzeug>=1.0.1->tensorboard<2.13,>=2.12->tensorflow) (2.1.2)\n",
            "Requirement already satisfied: pyasn1<0.6.0,>=0.4.6 in /usr/local/lib/python3.10/dist-packages (from pyasn1-modules>=0.2.1->google-auth<3,>=1.6.3->tensorboard<2.13,>=2.12->tensorflow) (0.5.0)\n",
            "Requirement already satisfied: oauthlib>=3.0.0 in /usr/local/lib/python3.10/dist-packages (from requests-oauthlib>=0.7.0->google-auth-oauthlib<1.1,>=0.5->tensorboard<2.13,>=2.12->tensorflow) (3.2.2)\n",
            "Looking in indexes: https://pypi.org/simple, https://us-python.pkg.dev/colab-wheels/public/simple/\n",
            "Requirement already satisfied: bert-tensorflow in /usr/local/lib/python3.10/dist-packages (1.0.4)\n",
            "Requirement already satisfied: six in /usr/local/lib/python3.10/dist-packages (from bert-tensorflow) (1.16.0)\n",
            "Looking in indexes: https://pypi.org/simple, https://us-python.pkg.dev/colab-wheels/public/simple/\n",
            "Requirement already satisfied: tensorflow in /usr/local/lib/python3.10/dist-packages (2.12.0)\n",
            "Requirement already satisfied: absl-py>=1.0.0 in /usr/local/lib/python3.10/dist-packages (from tensorflow) (1.4.0)\n",
            "Requirement already satisfied: astunparse>=1.6.0 in /usr/local/lib/python3.10/dist-packages (from tensorflow) (1.6.3)\n",
            "Requirement already satisfied: flatbuffers>=2.0 in /usr/local/lib/python3.10/dist-packages (from tensorflow) (23.3.3)\n",
            "Requirement already satisfied: gast<=0.4.0,>=0.2.1 in /usr/local/lib/python3.10/dist-packages (from tensorflow) (0.4.0)\n",
            "Requirement already satisfied: google-pasta>=0.1.1 in /usr/local/lib/python3.10/dist-packages (from tensorflow) (0.2.0)\n",
            "Requirement already satisfied: grpcio<2.0,>=1.24.3 in /usr/local/lib/python3.10/dist-packages (from tensorflow) (1.54.0)\n",
            "Requirement already satisfied: h5py>=2.9.0 in /usr/local/lib/python3.10/dist-packages (from tensorflow) (3.8.0)\n",
            "Requirement already satisfied: jax>=0.3.15 in /usr/local/lib/python3.10/dist-packages (from tensorflow) (0.4.10)\n",
            "Requirement already satisfied: keras<2.13,>=2.12.0 in /usr/local/lib/python3.10/dist-packages (from tensorflow) (2.12.0)\n",
            "Requirement already satisfied: libclang>=13.0.0 in /usr/local/lib/python3.10/dist-packages (from tensorflow) (16.0.0)\n",
            "Requirement already satisfied: numpy<1.24,>=1.22 in /usr/local/lib/python3.10/dist-packages (from tensorflow) (1.22.4)\n",
            "Requirement already satisfied: opt-einsum>=2.3.2 in /usr/local/lib/python3.10/dist-packages (from tensorflow) (3.3.0)\n",
            "Requirement already satisfied: packaging in /usr/local/lib/python3.10/dist-packages (from tensorflow) (23.1)\n",
            "Requirement already satisfied: protobuf!=4.21.0,!=4.21.1,!=4.21.2,!=4.21.3,!=4.21.4,!=4.21.5,<5.0.0dev,>=3.20.3 in /usr/local/lib/python3.10/dist-packages (from tensorflow) (3.20.3)\n",
            "Requirement already satisfied: setuptools in /usr/local/lib/python3.10/dist-packages (from tensorflow) (67.7.2)\n",
            "Requirement already satisfied: six>=1.12.0 in /usr/local/lib/python3.10/dist-packages (from tensorflow) (1.16.0)\n",
            "Requirement already satisfied: tensorboard<2.13,>=2.12 in /usr/local/lib/python3.10/dist-packages (from tensorflow) (2.12.2)\n",
            "Requirement already satisfied: tensorflow-estimator<2.13,>=2.12.0 in /usr/local/lib/python3.10/dist-packages (from tensorflow) (2.12.0)\n",
            "Requirement already satisfied: termcolor>=1.1.0 in /usr/local/lib/python3.10/dist-packages (from tensorflow) (2.3.0)\n",
            "Requirement already satisfied: typing-extensions>=3.6.6 in /usr/local/lib/python3.10/dist-packages (from tensorflow) (4.5.0)\n",
            "Requirement already satisfied: wrapt<1.15,>=1.11.0 in /usr/local/lib/python3.10/dist-packages (from tensorflow) (1.14.1)\n",
            "Requirement already satisfied: tensorflow-io-gcs-filesystem>=0.23.1 in /usr/local/lib/python3.10/dist-packages (from tensorflow) (0.32.0)\n",
            "Requirement already satisfied: wheel<1.0,>=0.23.0 in /usr/local/lib/python3.10/dist-packages (from astunparse>=1.6.0->tensorflow) (0.40.0)\n",
            "Requirement already satisfied: ml-dtypes>=0.1.0 in /usr/local/lib/python3.10/dist-packages (from jax>=0.3.15->tensorflow) (0.1.0)\n",
            "Requirement already satisfied: scipy>=1.7 in /usr/local/lib/python3.10/dist-packages (from jax>=0.3.15->tensorflow) (1.10.1)\n",
            "Requirement already satisfied: google-auth<3,>=1.6.3 in /usr/local/lib/python3.10/dist-packages (from tensorboard<2.13,>=2.12->tensorflow) (2.17.3)\n",
            "Requirement already satisfied: google-auth-oauthlib<1.1,>=0.5 in /usr/local/lib/python3.10/dist-packages (from tensorboard<2.13,>=2.12->tensorflow) (1.0.0)\n",
            "Requirement already satisfied: markdown>=2.6.8 in /usr/local/lib/python3.10/dist-packages (from tensorboard<2.13,>=2.12->tensorflow) (3.4.3)\n",
            "Requirement already satisfied: requests<3,>=2.21.0 in /usr/local/lib/python3.10/dist-packages (from tensorboard<2.13,>=2.12->tensorflow) (2.27.1)\n",
            "Requirement already satisfied: tensorboard-data-server<0.8.0,>=0.7.0 in /usr/local/lib/python3.10/dist-packages (from tensorboard<2.13,>=2.12->tensorflow) (0.7.0)\n",
            "Requirement already satisfied: tensorboard-plugin-wit>=1.6.0 in /usr/local/lib/python3.10/dist-packages (from tensorboard<2.13,>=2.12->tensorflow) (1.8.1)\n",
            "Requirement already satisfied: werkzeug>=1.0.1 in /usr/local/lib/python3.10/dist-packages (from tensorboard<2.13,>=2.12->tensorflow) (2.3.0)\n",
            "Requirement already satisfied: cachetools<6.0,>=2.0.0 in /usr/local/lib/python3.10/dist-packages (from google-auth<3,>=1.6.3->tensorboard<2.13,>=2.12->tensorflow) (5.3.0)\n",
            "Requirement already satisfied: pyasn1-modules>=0.2.1 in /usr/local/lib/python3.10/dist-packages (from google-auth<3,>=1.6.3->tensorboard<2.13,>=2.12->tensorflow) (0.3.0)\n",
            "Requirement already satisfied: rsa<5,>=3.1.4 in /usr/local/lib/python3.10/dist-packages (from google-auth<3,>=1.6.3->tensorboard<2.13,>=2.12->tensorflow) (4.9)\n",
            "Requirement already satisfied: requests-oauthlib>=0.7.0 in /usr/local/lib/python3.10/dist-packages (from google-auth-oauthlib<1.1,>=0.5->tensorboard<2.13,>=2.12->tensorflow) (1.3.1)\n",
            "Requirement already satisfied: urllib3<1.27,>=1.21.1 in /usr/local/lib/python3.10/dist-packages (from requests<3,>=2.21.0->tensorboard<2.13,>=2.12->tensorflow) (1.26.15)\n",
            "Requirement already satisfied: certifi>=2017.4.17 in /usr/local/lib/python3.10/dist-packages (from requests<3,>=2.21.0->tensorboard<2.13,>=2.12->tensorflow) (2022.12.7)\n",
            "Requirement already satisfied: charset-normalizer~=2.0.0 in /usr/local/lib/python3.10/dist-packages (from requests<3,>=2.21.0->tensorboard<2.13,>=2.12->tensorflow) (2.0.12)\n",
            "Requirement already satisfied: idna<4,>=2.5 in /usr/local/lib/python3.10/dist-packages (from requests<3,>=2.21.0->tensorboard<2.13,>=2.12->tensorflow) (3.4)\n",
            "Requirement already satisfied: MarkupSafe>=2.1.1 in /usr/local/lib/python3.10/dist-packages (from werkzeug>=1.0.1->tensorboard<2.13,>=2.12->tensorflow) (2.1.2)\n",
            "Requirement already satisfied: pyasn1<0.6.0,>=0.4.6 in /usr/local/lib/python3.10/dist-packages (from pyasn1-modules>=0.2.1->google-auth<3,>=1.6.3->tensorboard<2.13,>=2.12->tensorflow) (0.5.0)\n",
            "Requirement already satisfied: oauthlib>=3.0.0 in /usr/local/lib/python3.10/dist-packages (from requests-oauthlib>=0.7.0->google-auth-oauthlib<1.1,>=0.5->tensorboard<2.13,>=2.12->tensorflow) (3.2.2)\n",
            "Looking in indexes: https://pypi.org/simple, https://us-python.pkg.dev/colab-wheels/public/simple/\n",
            "Requirement already satisfied: tensorflow-hub in /usr/local/lib/python3.10/dist-packages (0.13.0)\n",
            "Requirement already satisfied: numpy>=1.12.0 in /usr/local/lib/python3.10/dist-packages (from tensorflow-hub) (1.22.4)\n",
            "Requirement already satisfied: protobuf>=3.19.6 in /usr/local/lib/python3.10/dist-packages (from tensorflow-hub) (3.20.3)\n",
            "Looking in indexes: https://pypi.org/simple, https://us-python.pkg.dev/colab-wheels/public/simple/\n",
            "Requirement already satisfied: transformers in /usr/local/lib/python3.10/dist-packages (4.29.2)\n",
            "Requirement already satisfied: filelock in /usr/local/lib/python3.10/dist-packages (from transformers) (3.12.0)\n",
            "Requirement already satisfied: huggingface-hub<1.0,>=0.14.1 in /usr/local/lib/python3.10/dist-packages (from transformers) (0.15.1)\n",
            "Requirement already satisfied: numpy>=1.17 in /usr/local/lib/python3.10/dist-packages (from transformers) (1.22.4)\n",
            "Requirement already satisfied: packaging>=20.0 in /usr/local/lib/python3.10/dist-packages (from transformers) (23.1)\n",
            "Requirement already satisfied: pyyaml>=5.1 in /usr/local/lib/python3.10/dist-packages (from transformers) (6.0)\n",
            "Requirement already satisfied: regex!=2019.12.17 in /usr/local/lib/python3.10/dist-packages (from transformers) (2022.10.31)\n",
            "Requirement already satisfied: requests in /usr/local/lib/python3.10/dist-packages (from transformers) (2.27.1)\n",
            "Requirement already satisfied: tokenizers!=0.11.3,<0.14,>=0.11.1 in /usr/local/lib/python3.10/dist-packages (from transformers) (0.13.3)\n",
            "Requirement already satisfied: tqdm>=4.27 in /usr/local/lib/python3.10/dist-packages (from transformers) (4.65.0)\n",
            "Requirement already satisfied: fsspec in /usr/local/lib/python3.10/dist-packages (from huggingface-hub<1.0,>=0.14.1->transformers) (2023.4.0)\n",
            "Requirement already satisfied: typing-extensions>=3.7.4.3 in /usr/local/lib/python3.10/dist-packages (from huggingface-hub<1.0,>=0.14.1->transformers) (4.5.0)\n",
            "Requirement already satisfied: urllib3<1.27,>=1.21.1 in /usr/local/lib/python3.10/dist-packages (from requests->transformers) (1.26.15)\n",
            "Requirement already satisfied: certifi>=2017.4.17 in /usr/local/lib/python3.10/dist-packages (from requests->transformers) (2022.12.7)\n",
            "Requirement already satisfied: charset-normalizer~=2.0.0 in /usr/local/lib/python3.10/dist-packages (from requests->transformers) (2.0.12)\n",
            "Requirement already satisfied: idna<4,>=2.5 in /usr/local/lib/python3.10/dist-packages (from requests->transformers) (3.4)\n",
            "Looking in indexes: https://pypi.org/simple, https://us-python.pkg.dev/colab-wheels/public/simple/\n",
            "Requirement already satisfied: bert-tensorflow in /usr/local/lib/python3.10/dist-packages (1.0.4)\n",
            "Requirement already satisfied: six in /usr/local/lib/python3.10/dist-packages (from bert-tensorflow) (1.16.0)\n"
          ]
        }
      ]
    },
    {
      "cell_type": "markdown",
      "source": [
        "# **Importing the Needed Libraries**"
      ],
      "metadata": {
        "id": "BlIfwgUn43Ar"
      }
    },
    {
      "cell_type": "code",
      "execution_count": 2,
      "metadata": {
        "id": "n4492Jvdax8i"
      },
      "outputs": [],
      "source": [
        "import re\n",
        "import nltk\n",
        "import random\n",
        "import pandas as pd\n",
        "import numpy as np \n",
        "import matplotlib.pyplot as plt\n",
        "import seaborn as sns\n",
        "from urllib import request\n",
        "from nltk.stem import WordNetLemmatizer\n",
        "from nltk.corpus import gutenberg, stopwords, wordnet\n",
        "from nltk.tokenize import regexp_tokenize\n",
        "from sklearn.preprocessing import LabelEncoder\n",
        "from sklearn.model_selection import cross_validate\n",
        "from sklearn.model_selection import train_test_split\n",
        "from sklearn.metrics import confusion_matrix\n",
        "import tensorflow as tf\n",
        "import tensorflow_hub as hub\n",
        "from bert import tokenization\n",
        "from tensorflow.keras.callbacks import EarlyStopping\n",
        "from tensorflow.keras.models import Model\n",
        "from tensorflow.keras.layers import Input, Dense , Dropout\n",
        "from transformers import BertTokenizer\n",
        "tokenizer = BertTokenizer.from_pretrained('bert-base-uncased')\n",
        "# Enable mixed precision training\n",
        "tf.keras.mixed_precision.set_global_policy('mixed_float16')\n",
        "import warnings\n",
        "warnings.filterwarnings(\"ignore\")\n"
      ]
    },
    {
      "cell_type": "markdown",
      "source": [
        "# **Downloading Some Needed Packages**"
      ],
      "metadata": {
        "id": "GyfVwNTf49Gj"
      }
    },
    {
      "cell_type": "code",
      "source": [
        "nltk.download('stopwords')\n",
        "nltk.download('gutenberg')\n",
        "nltk.download('punkt')\n",
        "nltk.download('omw-1.4') \n",
        "nltk.download('wordnet')\n",
        "nltk.download('averaged_perceptron_tagger')\n",
        "stop_words = set(stopwords.words('english'))"
      ],
      "metadata": {
        "colab": {
          "base_uri": "https://localhost:8080/"
        },
        "id": "bDP2RuPma3-J",
        "outputId": "396276a3-f27b-41f5-db4b-d8079fdc6108"
      },
      "execution_count": 3,
      "outputs": [
        {
          "output_type": "stream",
          "name": "stderr",
          "text": [
            "[nltk_data] Downloading package stopwords to /root/nltk_data...\n",
            "[nltk_data]   Package stopwords is already up-to-date!\n",
            "[nltk_data] Downloading package gutenberg to /root/nltk_data...\n",
            "[nltk_data]   Package gutenberg is already up-to-date!\n",
            "[nltk_data] Downloading package punkt to /root/nltk_data...\n",
            "[nltk_data]   Package punkt is already up-to-date!\n",
            "[nltk_data] Downloading package omw-1.4 to /root/nltk_data...\n",
            "[nltk_data]   Package omw-1.4 is already up-to-date!\n",
            "[nltk_data] Downloading package wordnet to /root/nltk_data...\n",
            "[nltk_data]   Package wordnet is already up-to-date!\n",
            "[nltk_data] Downloading package averaged_perceptron_tagger to\n",
            "[nltk_data]     /root/nltk_data...\n",
            "[nltk_data]   Package averaged_perceptron_tagger is already up-to-\n",
            "[nltk_data]       date!\n"
          ]
        }
      ]
    },
    {
      "cell_type": "markdown",
      "source": [
        "**Function to get the Wordnet's Part of Speach for future use to lemmatize the words**"
      ],
      "metadata": {
        "id": "2IPKGcVp8aNb"
      }
    },
    {
      "cell_type": "code",
      "source": [
        "def get_word_net_pos(tag):\n",
        "    if tag.startswith(\"J\"):\n",
        "        return wordnet.ADJ\n",
        "    elif tag.startswith(\"V\"):\n",
        "        return wordnet.VERB\n",
        "    elif tag.startswith(\"N\"):\n",
        "        return wordnet.NOUN\n",
        "    elif tag.startswith(\"R\"):\n",
        "        return wordnet.ADV\n",
        "    else :\n",
        "        return wordnet.NOUN"
      ],
      "metadata": {
        "id": "qT1PTgW206ul"
      },
      "execution_count": 4,
      "outputs": []
    },
    {
      "cell_type": "markdown",
      "source": [
        "**Function \"read_book\"**\n",
        "\n",
        "\n",
        "*   It Takes 2 parameters the URL of the Book and the Name of the book\n",
        "*   It Reads the Book, Decode, lower the Characters, Remove the Unnecessary characters, Remove the Stopwords, and Tokenize them\n",
        "\n",
        "\n",
        "*   It Gets 200 Random Samples each Consists of 100 Word \n",
        "*   Then, Using the Previous \"get_word_net_pos\" Function we lemmatize the Tokens and Label the Book with its Author name \n",
        "\n",
        "\n",
        "*   Finally, We Return the Dataframe\n",
        "\n",
        "\n",
        "\n",
        "\n",
        "\n",
        "\n"
      ],
      "metadata": {
        "id": "CtU97__C9BPs"
      }
    },
    {
      "cell_type": "code",
      "source": [
        "def read_book(url,name) :\n",
        "    lemmatizer = WordNetLemmatizer()\n",
        "    response = request.urlopen(url)\n",
        "    lines = (response.read().decode('utf8')).lower()\n",
        "    book = regexp_tokenize(lines,r'([a-zA-Z]{3,})[\\,|\\s|\\.]')\n",
        "    tokens = [token for token in book if token.lower() not in stop_words]\n",
        "    books =[]\n",
        "    for i in range(200) :\n",
        "        start = random.randint(0 , len(tokens) - 100)\n",
        "        books.append([' '.join(tokens[start: start + 100])])    \n",
        "    df = pd.DataFrame(books, columns=[\"partitions\"])\n",
        "    for i in range(200):\n",
        "        sent=\"\"\n",
        "        x = nltk.pos_tag((df.partitions[i]).split())\n",
        "        for word,tag in x:\n",
        "            lemma = lemmatizer.lemmatize(word,pos=get_word_net_pos(tag))\n",
        "            sent += lemma+\" \"\n",
        "            df.partitions[i] = sent\n",
        "    df[\"author\"] = name\n",
        "    return df"
      ],
      "metadata": {
        "id": "He_BiTp8a4Gw"
      },
      "execution_count": 5,
      "outputs": []
    },
    {
      "cell_type": "markdown",
      "source": [
        "**Function \"five_books\"**\n",
        "\n",
        "\n",
        "*   It Takes the List of URLs of the Books and the Authors Lisr as parameters\n",
        "*   And for each URL it Reads the Book and Preprocess it as Above then Append all of the Dataframes into a Full Dataframe Contains all the Books Samples \n",
        "\n"
      ],
      "metadata": {
        "id": "7R7yxtse_HRb"
      }
    },
    {
      "cell_type": "code",
      "source": [
        "def five_books(list_of_urls,author_list) :\n",
        "    df_full = pd.DataFrame()\n",
        "    for i,j in enumerate(list_of_urls) :\n",
        "        df = read_book(j,author_list[i])\n",
        "        df_full = df_full.append(df , ignore_index= True)\n",
        "    return df_full    "
      ],
      "metadata": {
        "id": "Bu-hb2P2a4JA"
      },
      "execution_count": 6,
      "outputs": []
    },
    {
      "cell_type": "markdown",
      "source": [
        "**Function \"preprocess_text\"**\n",
        "\n",
        "\n",
        "*   Giving a Text and its Maximum Sequence Length, it Returns a 3 Lists Consists of :\n",
        "      *   The Input IDs for the Text\n",
        "      *   Its Attentiom Mask\n",
        "      *   The Text Token Type IDs\n",
        "\n",
        "\n",
        "\n"
      ],
      "metadata": {
        "id": "V_EXECukAVmz"
      }
    },
    {
      "cell_type": "code",
      "source": [
        "def preprocess_text(text, max_seq_length):\n",
        "    # Tokenize the text\n",
        "    tokens = tokenizer.tokenize(text)\n",
        "    # Add special tokens [CLS] and [SEP]\n",
        "    tokens = ['[CLS]'] + tokens + ['[SEP]']\n",
        "    \n",
        "    # Convert tokens to input IDs\n",
        "    input_ids = tokenizer.convert_tokens_to_ids(tokens)\n",
        "    \n",
        "    # Pad or truncate the input IDs to the desired sequence length\n",
        "    input_ids = input_ids[:max_seq_length]\n",
        "    padding_length = max_seq_length - len(input_ids)\n",
        " \n",
        "    input_ids = input_ids + [0] * padding_length\n",
        "   \n",
        "\n",
        "    # Create the attention mask\n",
        "    attention_mask = [1] * len(input_ids)\n",
        "    \n",
        "    # Create the token type IDs\n",
        "    token_type_ids = [0] * len(input_ids)\n",
        "    \n",
        "    return input_ids, attention_mask , token_type_ids\n"
      ],
      "metadata": {
        "id": "kANysU4llAMn"
      },
      "execution_count": 7,
      "outputs": []
    },
    {
      "cell_type": "markdown",
      "source": [
        "**Function \"preprocess_df\"**\n",
        "\n",
        "\n",
        "*   It Takes Train and Test Dataframes \n",
        "*   It Returns a Tensor Type for the Whole Train Dataframe Preprocessed with the above Function \n",
        "\n"
      ],
      "metadata": {
        "id": "KlFkljxeC5jp"
      }
    },
    {
      "cell_type": "code",
      "source": [
        "def preprocess_df(x_df , y_df):\n",
        "\n",
        "  max_seq_length = 100  # Set the desired maximum sequence length\n",
        "\n",
        "  X_df_word_ids = []  # List to store preprocessed input IDs\n",
        "  attention_masks = []  # List to store attention masks\n",
        "  token_type_ids = []  # List to store token type IDs\n",
        "\n",
        "  for text in x_df:\n",
        "    input_ids, attention_mask , token_type_id= preprocess_text(text, max_seq_length)\n",
        "    X_df_word_ids.append(input_ids)\n",
        "    attention_masks.append(attention_mask)\n",
        "    token_type_ids.append(token_type_id)\n",
        "\n",
        "  # Convert the lists to TensorFlow tensors\n",
        "  X_df_word_ids = tf.convert_to_tensor(X_df_word_ids)\n",
        "  attention_masks = tf.convert_to_tensor(attention_masks)\n",
        "  token_type_ids = tf.convert_to_tensor(token_type_ids)\n",
        "\n",
        "  y_train = y_df  # Your training labels\n",
        "  return X_df_word_ids , attention_masks , token_type_ids , y_train\n"
      ],
      "metadata": {
        "id": "OGEKXY00lAO5"
      },
      "execution_count": 8,
      "outputs": []
    },
    {
      "cell_type": "markdown",
      "source": [
        "# Get 5 Books from Gutenberg Library \n",
        "\n",
        "\n",
        "*   The Project Gutenberg EBook of The Adventures of Pinocchio, by\n",
        "C. Collodi--Pseudonym of Carlo Lorenzini\n",
        "\n",
        "*   The Project Gutenberg eBook of Peter Pan, by James M. Barrie\n",
        "\n",
        "*   The Project Gutenberg eBook of The Wonderful Wizard of Oz, by L. Frank Baum\n",
        "\n",
        "*   The Project Gutenberg eBook of Alice’s Adventures in Wonderland, by Lewis Carroll\n",
        "\n",
        "*   The Project Gutenberg eBook of Gulliver’s Travels, by Jonathan Swift\n",
        "\n",
        "\n",
        "\n",
        "\n",
        "\n",
        "\n"
      ],
      "metadata": {
        "id": "N63hwGOb5Pjt"
      }
    },
    {
      "cell_type": "code",
      "source": [
        "pinocchio = \"https://www.gutenberg.org/files/500/500-0.txt\"\n",
        "pan = \"https://www.gutenberg.org/files/16/16-0.txt\"\n",
        "oz = \"https://www.gutenberg.org/files/55/55-0.txt\"\n",
        "alice = \"https://www.gutenberg.org/files/11/11-0.txt\"\n",
        "gulliver = \"https://www.gutenberg.org/files/829/829-0.txt\"\n",
        "books_list = [pinocchio , pan , oz , alice , gulliver]\n",
        "author_list = [\"Carlo Collodi\", \"James M. Barrie\", \"L. Frank Baum\", \"Lewis Carroll\", \"Jonathan Swift\"]"
      ],
      "metadata": {
        "id": "wFNeUHjpa4CA"
      },
      "execution_count": 9,
      "outputs": []
    },
    {
      "cell_type": "code",
      "source": [
        "df = five_books(books_list,author_list)"
      ],
      "metadata": {
        "id": "_5mffP_Ba4Lj"
      },
      "execution_count": 10,
      "outputs": []
    },
    {
      "cell_type": "code",
      "source": [
        "df"
      ],
      "metadata": {
        "colab": {
          "base_uri": "https://localhost:8080/",
          "height": 423
        },
        "id": "ccv0Dq5qbU7y",
        "outputId": "517956db-1425-45c1-b5f5-9bca6c14eb85"
      },
      "execution_count": 11,
      "outputs": [
        {
          "output_type": "execute_result",
          "data": {
            "text/plain": [
              "                                            partitions          author\n",
              "0    faraway hill sob say fairy dear dear fairy die...   Carlo Collodi\n",
              "1    order partridge pheasant couple rabbit dozen f...   Carlo Collodi\n",
              "2    pinocchio walk door room reach remember donkey...   Carlo Collodi\n",
              "3    climb back hold tightly neck take care everyth...   Carlo Collodi\n",
              "4    believe everything hear allow catch easily tra...   Carlo Collodi\n",
              "..                                                 ...             ...\n",
              "995  substance several conversation master great pa...  Jonathan Swift\n",
              "996  country master say altogether past conception ...  Jonathan Swift\n",
              "997  fail smart word two upon could revenge call br...  Jonathan Swift\n",
              "998  introduce provocative drink except necessary p...  Jonathan Swift\n",
              "999  flatter suborn forswear forge game lie fawn he...  Jonathan Swift\n",
              "\n",
              "[1000 rows x 2 columns]"
            ],
            "text/html": [
              "\n",
              "  <div id=\"df-dd268bf8-d113-4596-b44f-1859e177d396\">\n",
              "    <div class=\"colab-df-container\">\n",
              "      <div>\n",
              "<style scoped>\n",
              "    .dataframe tbody tr th:only-of-type {\n",
              "        vertical-align: middle;\n",
              "    }\n",
              "\n",
              "    .dataframe tbody tr th {\n",
              "        vertical-align: top;\n",
              "    }\n",
              "\n",
              "    .dataframe thead th {\n",
              "        text-align: right;\n",
              "    }\n",
              "</style>\n",
              "<table border=\"1\" class=\"dataframe\">\n",
              "  <thead>\n",
              "    <tr style=\"text-align: right;\">\n",
              "      <th></th>\n",
              "      <th>partitions</th>\n",
              "      <th>author</th>\n",
              "    </tr>\n",
              "  </thead>\n",
              "  <tbody>\n",
              "    <tr>\n",
              "      <th>0</th>\n",
              "      <td>faraway hill sob say fairy dear dear fairy die...</td>\n",
              "      <td>Carlo Collodi</td>\n",
              "    </tr>\n",
              "    <tr>\n",
              "      <th>1</th>\n",
              "      <td>order partridge pheasant couple rabbit dozen f...</td>\n",
              "      <td>Carlo Collodi</td>\n",
              "    </tr>\n",
              "    <tr>\n",
              "      <th>2</th>\n",
              "      <td>pinocchio walk door room reach remember donkey...</td>\n",
              "      <td>Carlo Collodi</td>\n",
              "    </tr>\n",
              "    <tr>\n",
              "      <th>3</th>\n",
              "      <td>climb back hold tightly neck take care everyth...</td>\n",
              "      <td>Carlo Collodi</td>\n",
              "    </tr>\n",
              "    <tr>\n",
              "      <th>4</th>\n",
              "      <td>believe everything hear allow catch easily tra...</td>\n",
              "      <td>Carlo Collodi</td>\n",
              "    </tr>\n",
              "    <tr>\n",
              "      <th>...</th>\n",
              "      <td>...</td>\n",
              "      <td>...</td>\n",
              "    </tr>\n",
              "    <tr>\n",
              "      <th>995</th>\n",
              "      <td>substance several conversation master great pa...</td>\n",
              "      <td>Jonathan Swift</td>\n",
              "    </tr>\n",
              "    <tr>\n",
              "      <th>996</th>\n",
              "      <td>country master say altogether past conception ...</td>\n",
              "      <td>Jonathan Swift</td>\n",
              "    </tr>\n",
              "    <tr>\n",
              "      <th>997</th>\n",
              "      <td>fail smart word two upon could revenge call br...</td>\n",
              "      <td>Jonathan Swift</td>\n",
              "    </tr>\n",
              "    <tr>\n",
              "      <th>998</th>\n",
              "      <td>introduce provocative drink except necessary p...</td>\n",
              "      <td>Jonathan Swift</td>\n",
              "    </tr>\n",
              "    <tr>\n",
              "      <th>999</th>\n",
              "      <td>flatter suborn forswear forge game lie fawn he...</td>\n",
              "      <td>Jonathan Swift</td>\n",
              "    </tr>\n",
              "  </tbody>\n",
              "</table>\n",
              "<p>1000 rows × 2 columns</p>\n",
              "</div>\n",
              "      <button class=\"colab-df-convert\" onclick=\"convertToInteractive('df-dd268bf8-d113-4596-b44f-1859e177d396')\"\n",
              "              title=\"Convert this dataframe to an interactive table.\"\n",
              "              style=\"display:none;\">\n",
              "        \n",
              "  <svg xmlns=\"http://www.w3.org/2000/svg\" height=\"24px\"viewBox=\"0 0 24 24\"\n",
              "       width=\"24px\">\n",
              "    <path d=\"M0 0h24v24H0V0z\" fill=\"none\"/>\n",
              "    <path d=\"M18.56 5.44l.94 2.06.94-2.06 2.06-.94-2.06-.94-.94-2.06-.94 2.06-2.06.94zm-11 1L8.5 8.5l.94-2.06 2.06-.94-2.06-.94L8.5 2.5l-.94 2.06-2.06.94zm10 10l.94 2.06.94-2.06 2.06-.94-2.06-.94-.94-2.06-.94 2.06-2.06.94z\"/><path d=\"M17.41 7.96l-1.37-1.37c-.4-.4-.92-.59-1.43-.59-.52 0-1.04.2-1.43.59L10.3 9.45l-7.72 7.72c-.78.78-.78 2.05 0 2.83L4 21.41c.39.39.9.59 1.41.59.51 0 1.02-.2 1.41-.59l7.78-7.78 2.81-2.81c.8-.78.8-2.07 0-2.86zM5.41 20L4 18.59l7.72-7.72 1.47 1.35L5.41 20z\"/>\n",
              "  </svg>\n",
              "      </button>\n",
              "      \n",
              "  <style>\n",
              "    .colab-df-container {\n",
              "      display:flex;\n",
              "      flex-wrap:wrap;\n",
              "      gap: 12px;\n",
              "    }\n",
              "\n",
              "    .colab-df-convert {\n",
              "      background-color: #E8F0FE;\n",
              "      border: none;\n",
              "      border-radius: 50%;\n",
              "      cursor: pointer;\n",
              "      display: none;\n",
              "      fill: #1967D2;\n",
              "      height: 32px;\n",
              "      padding: 0 0 0 0;\n",
              "      width: 32px;\n",
              "    }\n",
              "\n",
              "    .colab-df-convert:hover {\n",
              "      background-color: #E2EBFA;\n",
              "      box-shadow: 0px 1px 2px rgba(60, 64, 67, 0.3), 0px 1px 3px 1px rgba(60, 64, 67, 0.15);\n",
              "      fill: #174EA6;\n",
              "    }\n",
              "\n",
              "    [theme=dark] .colab-df-convert {\n",
              "      background-color: #3B4455;\n",
              "      fill: #D2E3FC;\n",
              "    }\n",
              "\n",
              "    [theme=dark] .colab-df-convert:hover {\n",
              "      background-color: #434B5C;\n",
              "      box-shadow: 0px 1px 3px 1px rgba(0, 0, 0, 0.15);\n",
              "      filter: drop-shadow(0px 1px 2px rgba(0, 0, 0, 0.3));\n",
              "      fill: #FFFFFF;\n",
              "    }\n",
              "  </style>\n",
              "\n",
              "      <script>\n",
              "        const buttonEl =\n",
              "          document.querySelector('#df-dd268bf8-d113-4596-b44f-1859e177d396 button.colab-df-convert');\n",
              "        buttonEl.style.display =\n",
              "          google.colab.kernel.accessAllowed ? 'block' : 'none';\n",
              "\n",
              "        async function convertToInteractive(key) {\n",
              "          const element = document.querySelector('#df-dd268bf8-d113-4596-b44f-1859e177d396');\n",
              "          const dataTable =\n",
              "            await google.colab.kernel.invokeFunction('convertToInteractive',\n",
              "                                                     [key], {});\n",
              "          if (!dataTable) return;\n",
              "\n",
              "          const docLinkHtml = 'Like what you see? Visit the ' +\n",
              "            '<a target=\"_blank\" href=https://colab.research.google.com/notebooks/data_table.ipynb>data table notebook</a>'\n",
              "            + ' to learn more about interactive tables.';\n",
              "          element.innerHTML = '';\n",
              "          dataTable['output_type'] = 'display_data';\n",
              "          await google.colab.output.renderOutput(dataTable, element);\n",
              "          const docLink = document.createElement('div');\n",
              "          docLink.innerHTML = docLinkHtml;\n",
              "          element.appendChild(docLink);\n",
              "        }\n",
              "      </script>\n",
              "    </div>\n",
              "  </div>\n",
              "  "
            ]
          },
          "metadata": {},
          "execution_count": 11
        }
      ]
    },
    {
      "cell_type": "code",
      "source": [
        "df.author.value_counts()"
      ],
      "metadata": {
        "colab": {
          "base_uri": "https://localhost:8080/"
        },
        "id": "W5OLCSG0bU-S",
        "outputId": "b948f569-d4a3-4de7-f06b-b98eb55745fa"
      },
      "execution_count": 12,
      "outputs": [
        {
          "output_type": "execute_result",
          "data": {
            "text/plain": [
              "Carlo Collodi      200\n",
              "James M. Barrie    200\n",
              "L. Frank Baum      200\n",
              "Lewis Carroll      200\n",
              "Jonathan Swift     200\n",
              "Name: author, dtype: int64"
            ]
          },
          "metadata": {},
          "execution_count": 12
        }
      ]
    },
    {
      "cell_type": "markdown",
      "source": [
        "**To Encode the Authors Names into Numerical Values**"
      ],
      "metadata": {
        "id": "3gOdz6IEAByU"
      }
    },
    {
      "cell_type": "code",
      "source": [
        "encoder = LabelEncoder()\n",
        "df.author = encoder.fit_transform(df.author)"
      ],
      "metadata": {
        "id": "g3z1zcSJbVDU"
      },
      "execution_count": 13,
      "outputs": []
    },
    {
      "cell_type": "code",
      "source": [
        "df"
      ],
      "metadata": {
        "colab": {
          "base_uri": "https://localhost:8080/",
          "height": 423
        },
        "id": "z7nMjloZbVF1",
        "outputId": "eb32424b-621f-4979-f451-fa5378fd75ce"
      },
      "execution_count": 14,
      "outputs": [
        {
          "output_type": "execute_result",
          "data": {
            "text/plain": [
              "                                            partitions  author\n",
              "0    faraway hill sob say fairy dear dear fairy die...       0\n",
              "1    order partridge pheasant couple rabbit dozen f...       0\n",
              "2    pinocchio walk door room reach remember donkey...       0\n",
              "3    climb back hold tightly neck take care everyth...       0\n",
              "4    believe everything hear allow catch easily tra...       0\n",
              "..                                                 ...     ...\n",
              "995  substance several conversation master great pa...       2\n",
              "996  country master say altogether past conception ...       2\n",
              "997  fail smart word two upon could revenge call br...       2\n",
              "998  introduce provocative drink except necessary p...       2\n",
              "999  flatter suborn forswear forge game lie fawn he...       2\n",
              "\n",
              "[1000 rows x 2 columns]"
            ],
            "text/html": [
              "\n",
              "  <div id=\"df-d2db7940-e5b7-41d1-8bcc-823537ab6d23\">\n",
              "    <div class=\"colab-df-container\">\n",
              "      <div>\n",
              "<style scoped>\n",
              "    .dataframe tbody tr th:only-of-type {\n",
              "        vertical-align: middle;\n",
              "    }\n",
              "\n",
              "    .dataframe tbody tr th {\n",
              "        vertical-align: top;\n",
              "    }\n",
              "\n",
              "    .dataframe thead th {\n",
              "        text-align: right;\n",
              "    }\n",
              "</style>\n",
              "<table border=\"1\" class=\"dataframe\">\n",
              "  <thead>\n",
              "    <tr style=\"text-align: right;\">\n",
              "      <th></th>\n",
              "      <th>partitions</th>\n",
              "      <th>author</th>\n",
              "    </tr>\n",
              "  </thead>\n",
              "  <tbody>\n",
              "    <tr>\n",
              "      <th>0</th>\n",
              "      <td>faraway hill sob say fairy dear dear fairy die...</td>\n",
              "      <td>0</td>\n",
              "    </tr>\n",
              "    <tr>\n",
              "      <th>1</th>\n",
              "      <td>order partridge pheasant couple rabbit dozen f...</td>\n",
              "      <td>0</td>\n",
              "    </tr>\n",
              "    <tr>\n",
              "      <th>2</th>\n",
              "      <td>pinocchio walk door room reach remember donkey...</td>\n",
              "      <td>0</td>\n",
              "    </tr>\n",
              "    <tr>\n",
              "      <th>3</th>\n",
              "      <td>climb back hold tightly neck take care everyth...</td>\n",
              "      <td>0</td>\n",
              "    </tr>\n",
              "    <tr>\n",
              "      <th>4</th>\n",
              "      <td>believe everything hear allow catch easily tra...</td>\n",
              "      <td>0</td>\n",
              "    </tr>\n",
              "    <tr>\n",
              "      <th>...</th>\n",
              "      <td>...</td>\n",
              "      <td>...</td>\n",
              "    </tr>\n",
              "    <tr>\n",
              "      <th>995</th>\n",
              "      <td>substance several conversation master great pa...</td>\n",
              "      <td>2</td>\n",
              "    </tr>\n",
              "    <tr>\n",
              "      <th>996</th>\n",
              "      <td>country master say altogether past conception ...</td>\n",
              "      <td>2</td>\n",
              "    </tr>\n",
              "    <tr>\n",
              "      <th>997</th>\n",
              "      <td>fail smart word two upon could revenge call br...</td>\n",
              "      <td>2</td>\n",
              "    </tr>\n",
              "    <tr>\n",
              "      <th>998</th>\n",
              "      <td>introduce provocative drink except necessary p...</td>\n",
              "      <td>2</td>\n",
              "    </tr>\n",
              "    <tr>\n",
              "      <th>999</th>\n",
              "      <td>flatter suborn forswear forge game lie fawn he...</td>\n",
              "      <td>2</td>\n",
              "    </tr>\n",
              "  </tbody>\n",
              "</table>\n",
              "<p>1000 rows × 2 columns</p>\n",
              "</div>\n",
              "      <button class=\"colab-df-convert\" onclick=\"convertToInteractive('df-d2db7940-e5b7-41d1-8bcc-823537ab6d23')\"\n",
              "              title=\"Convert this dataframe to an interactive table.\"\n",
              "              style=\"display:none;\">\n",
              "        \n",
              "  <svg xmlns=\"http://www.w3.org/2000/svg\" height=\"24px\"viewBox=\"0 0 24 24\"\n",
              "       width=\"24px\">\n",
              "    <path d=\"M0 0h24v24H0V0z\" fill=\"none\"/>\n",
              "    <path d=\"M18.56 5.44l.94 2.06.94-2.06 2.06-.94-2.06-.94-.94-2.06-.94 2.06-2.06.94zm-11 1L8.5 8.5l.94-2.06 2.06-.94-2.06-.94L8.5 2.5l-.94 2.06-2.06.94zm10 10l.94 2.06.94-2.06 2.06-.94-2.06-.94-.94-2.06-.94 2.06-2.06.94z\"/><path d=\"M17.41 7.96l-1.37-1.37c-.4-.4-.92-.59-1.43-.59-.52 0-1.04.2-1.43.59L10.3 9.45l-7.72 7.72c-.78.78-.78 2.05 0 2.83L4 21.41c.39.39.9.59 1.41.59.51 0 1.02-.2 1.41-.59l7.78-7.78 2.81-2.81c.8-.78.8-2.07 0-2.86zM5.41 20L4 18.59l7.72-7.72 1.47 1.35L5.41 20z\"/>\n",
              "  </svg>\n",
              "      </button>\n",
              "      \n",
              "  <style>\n",
              "    .colab-df-container {\n",
              "      display:flex;\n",
              "      flex-wrap:wrap;\n",
              "      gap: 12px;\n",
              "    }\n",
              "\n",
              "    .colab-df-convert {\n",
              "      background-color: #E8F0FE;\n",
              "      border: none;\n",
              "      border-radius: 50%;\n",
              "      cursor: pointer;\n",
              "      display: none;\n",
              "      fill: #1967D2;\n",
              "      height: 32px;\n",
              "      padding: 0 0 0 0;\n",
              "      width: 32px;\n",
              "    }\n",
              "\n",
              "    .colab-df-convert:hover {\n",
              "      background-color: #E2EBFA;\n",
              "      box-shadow: 0px 1px 2px rgba(60, 64, 67, 0.3), 0px 1px 3px 1px rgba(60, 64, 67, 0.15);\n",
              "      fill: #174EA6;\n",
              "    }\n",
              "\n",
              "    [theme=dark] .colab-df-convert {\n",
              "      background-color: #3B4455;\n",
              "      fill: #D2E3FC;\n",
              "    }\n",
              "\n",
              "    [theme=dark] .colab-df-convert:hover {\n",
              "      background-color: #434B5C;\n",
              "      box-shadow: 0px 1px 3px 1px rgba(0, 0, 0, 0.15);\n",
              "      filter: drop-shadow(0px 1px 2px rgba(0, 0, 0, 0.3));\n",
              "      fill: #FFFFFF;\n",
              "    }\n",
              "  </style>\n",
              "\n",
              "      <script>\n",
              "        const buttonEl =\n",
              "          document.querySelector('#df-d2db7940-e5b7-41d1-8bcc-823537ab6d23 button.colab-df-convert');\n",
              "        buttonEl.style.display =\n",
              "          google.colab.kernel.accessAllowed ? 'block' : 'none';\n",
              "\n",
              "        async function convertToInteractive(key) {\n",
              "          const element = document.querySelector('#df-d2db7940-e5b7-41d1-8bcc-823537ab6d23');\n",
              "          const dataTable =\n",
              "            await google.colab.kernel.invokeFunction('convertToInteractive',\n",
              "                                                     [key], {});\n",
              "          if (!dataTable) return;\n",
              "\n",
              "          const docLinkHtml = 'Like what you see? Visit the ' +\n",
              "            '<a target=\"_blank\" href=https://colab.research.google.com/notebooks/data_table.ipynb>data table notebook</a>'\n",
              "            + ' to learn more about interactive tables.';\n",
              "          element.innerHTML = '';\n",
              "          dataTable['output_type'] = 'display_data';\n",
              "          await google.colab.output.renderOutput(dataTable, element);\n",
              "          const docLink = document.createElement('div');\n",
              "          docLink.innerHTML = docLinkHtml;\n",
              "          element.appendChild(docLink);\n",
              "        }\n",
              "      </script>\n",
              "    </div>\n",
              "  </div>\n",
              "  "
            ]
          },
          "metadata": {},
          "execution_count": 14
        }
      ]
    },
    {
      "cell_type": "code",
      "source": [
        "df.author.value_counts()"
      ],
      "metadata": {
        "colab": {
          "base_uri": "https://localhost:8080/"
        },
        "id": "NVri_mF_1kfB",
        "outputId": "ceba66a9-0a59-4c2e-b3e2-2a1fb3efdf53"
      },
      "execution_count": 15,
      "outputs": [
        {
          "output_type": "execute_result",
          "data": {
            "text/plain": [
              "0    200\n",
              "1    200\n",
              "3    200\n",
              "4    200\n",
              "2    200\n",
              "Name: author, dtype: int64"
            ]
          },
          "metadata": {},
          "execution_count": 15
        }
      ]
    },
    {
      "cell_type": "markdown",
      "source": [
        "**Split the Dataframes into Train and Test Splits**"
      ],
      "metadata": {
        "id": "UQRL21-RDrwJ"
      }
    },
    {
      "cell_type": "code",
      "source": [
        "X_train, X_test, y_train, y_test = train_test_split(\n",
        "        df['partitions'], df['author'], test_size=0.2, stratify=df['author'], random_state=42)"
      ],
      "metadata": {
        "id": "I6n-eVQBn1D4"
      },
      "execution_count": 16,
      "outputs": []
    },
    {
      "cell_type": "markdown",
      "source": [
        "**Download the BERT-Base Model**"
      ],
      "metadata": {
        "id": "wAUAlIWoDyyJ"
      }
    },
    {
      "cell_type": "code",
      "source": [
        "bert_model = \"https://tfhub.dev/tensorflow/bert_en_uncased_L-12_H-768_A-12/3\"  # BERT base model\n",
        "bert_layer = hub.KerasLayer(bert_model, trainable=False)\n"
      ],
      "metadata": {
        "id": "EvQDAZdPk_2o"
      },
      "execution_count": 17,
      "outputs": []
    },
    {
      "cell_type": "markdown",
      "source": [
        "**Build the Model**\n",
        "\n",
        "\n",
        "*  The Input will be a List of 3 inputs (word_ids, attention_mask, type_ids)\n",
        "*   The Output will be 1 Value from the 5 Labels Classes \n",
        "\n"
      ],
      "metadata": {
        "id": "H47x3JEHD93B"
      }
    },
    {
      "cell_type": "code",
      "source": [
        "input_word_ids = Input(shape=(100,), dtype=tf.int32, name=\"input_word_ids\")\n",
        "input_mask = Input(shape=(100,), dtype=tf.int32, name=\"input_mask\")\n",
        "input_type_ids = Input(shape=(100,), dtype=tf.int32, name=\"input_type_ids\")\n",
        "\n",
        "bert_output = bert_layer({\"input_word_ids\": input_word_ids, \"input_mask\": input_mask, \"input_type_ids\": input_type_ids})\n",
        "dropout = Dropout(0.2)(bert_output[\"pooled_output\"])\n",
        "output = Dense(5, activation='softmax')(dropout)\n",
        "\n",
        "\n",
        "model = Model(inputs=[input_word_ids, input_mask, input_type_ids], outputs=output)\n",
        "\n"
      ],
      "metadata": {
        "id": "0PMwDEF9AdIH"
      },
      "execution_count": 35,
      "outputs": []
    },
    {
      "cell_type": "markdown",
      "source": [
        "**The Model Summary**\n",
        "\n",
        "\n",
        "*   The total Parameters are almost 110 millions parameters but i stopped the trainable parameters\n",
        "*   We got almost 4 thousand parameters to be trained \n",
        "\n"
      ],
      "metadata": {
        "id": "d8zUGDMQFD_z"
      }
    },
    {
      "cell_type": "code",
      "source": [
        "model.summary()"
      ],
      "metadata": {
        "colab": {
          "base_uri": "https://localhost:8080/"
        },
        "id": "gbD2nvKCk_7g",
        "outputId": "0726f3c7-c8c7-442a-cb27-47b96a8d4d28"
      },
      "execution_count": 36,
      "outputs": [
        {
          "output_type": "stream",
          "name": "stdout",
          "text": [
            "Model: \"model_2\"\n",
            "__________________________________________________________________________________________________\n",
            " Layer (type)                   Output Shape         Param #     Connected to                     \n",
            "==================================================================================================\n",
            " input_mask (InputLayer)        [(None, 100)]        0           []                               \n",
            "                                                                                                  \n",
            " input_type_ids (InputLayer)    [(None, 100)]        0           []                               \n",
            "                                                                                                  \n",
            " input_word_ids (InputLayer)    [(None, 100)]        0           []                               \n",
            "                                                                                                  \n",
            " keras_layer (KerasLayer)       {'pooled_output': (  109482241   ['input_mask[0][0]',             \n",
            "                                None, 768),                       'input_type_ids[0][0]',         \n",
            "                                 'encoder_outputs':               'input_word_ids[0][0]']         \n",
            "                                 [(None, 100, 768),                                               \n",
            "                                 (None, 100, 768),                                                \n",
            "                                 (None, 100, 768),                                                \n",
            "                                 (None, 100, 768),                                                \n",
            "                                 (None, 100, 768),                                                \n",
            "                                 (None, 100, 768),                                                \n",
            "                                 (None, 100, 768),                                                \n",
            "                                 (None, 100, 768),                                                \n",
            "                                 (None, 100, 768),                                                \n",
            "                                 (None, 100, 768),                                                \n",
            "                                 (None, 100, 768),                                                \n",
            "                                 (None, 100, 768)],                                               \n",
            "                                 'default': (None,                                                \n",
            "                                768),                                                             \n",
            "                                 'sequence_output':                                               \n",
            "                                 (None, 100, 768)}                                                \n",
            "                                                                                                  \n",
            " dropout_2 (Dropout)            (None, 768)          0           ['keras_layer[2][13]']           \n",
            "                                                                                                  \n",
            " dense_3 (Dense)                (None, 5)            3845        ['dropout_2[0][0]']              \n",
            "                                                                                                  \n",
            "==================================================================================================\n",
            "Total params: 109,486,086\n",
            "Trainable params: 3,845\n",
            "Non-trainable params: 109,482,241\n",
            "__________________________________________________________________________________________________\n"
          ]
        }
      ]
    },
    {
      "cell_type": "markdown",
      "source": [
        "**The Model Plot**\n",
        "\n",
        "\n",
        "*   The 3 Inputs go through the Keras Layer then the Dropout to get the Output\n",
        "\n"
      ],
      "metadata": {
        "id": "m-JiCKNkFarp"
      }
    },
    {
      "cell_type": "code",
      "source": [
        "tf.keras.utils.plot_model(model)"
      ],
      "metadata": {
        "colab": {
          "base_uri": "https://localhost:8080/",
          "height": 369
        },
        "id": "kbU17iF2kxW4",
        "outputId": "913352a9-6e7e-4109-f251-df351a32fd6e"
      },
      "execution_count": 37,
      "outputs": [
        {
          "output_type": "execute_result",
          "data": {
            "image/png": "[encoded data removed]",
            "text/plain": [
              "<IPython.core.display.Image object>"
            ]
          },
          "metadata": {},
          "execution_count": 37
        }
      ]
    },
    {
      "cell_type": "markdown",
      "source": [
        "**Preprocessing the Train Dataframe**"
      ],
      "metadata": {
        "id": "PP2AtMF1GD2x"
      }
    },
    {
      "cell_type": "code",
      "source": [
        "X_train_word_ids, attention_masks, token_type_ids , y_train = preprocess_df(X_train , y_train)"
      ],
      "metadata": {
        "id": "qOTgfZTZc3ec"
      },
      "execution_count": 38,
      "outputs": []
    },
    {
      "cell_type": "markdown",
      "source": [
        "**Compiling the Model with ADAM Optimizer and sparse_categorical_crossentropy Loss Function and Accuracy Metric**"
      ],
      "metadata": {
        "id": "ZlGPZ7KQFzr5"
      }
    },
    {
      "cell_type": "code",
      "source": [
        "model.compile(optimizer=tf.keras.optimizers.Adam(learning_rate=0.001),\n",
        "              loss='sparse_categorical_crossentropy',\n",
        "              metrics=[\"accuracy\"])"
      ],
      "metadata": {
        "id": "uSKH2vm4k_-Q"
      },
      "execution_count": 39,
      "outputs": []
    },
    {
      "cell_type": "markdown",
      "source": [
        "**Fitting the Model with the 3 Train Inputs and Y Train for a 100 Epochs with Batch Size equal 16 and Validation Ratio 20%**"
      ],
      "metadata": {
        "id": "jaCMbknlGMYy"
      }
    },
    {
      "cell_type": "code",
      "source": [
        "history = model.fit([X_train_word_ids, attention_masks, token_type_ids], y_train, epochs = 100  , validation_split = 0.25 , batch_size=32 )"
      ],
      "metadata": {
        "colab": {
          "base_uri": "https://localhost:8080/"
        },
        "id": "kVwuBdqtrQV3",
        "outputId": "a1fef8e5-f69f-4396-8aae-319e8feeead6"
      },
      "execution_count": 45,
      "outputs": [
        {
          "output_type": "stream",
          "name": "stdout",
          "text": [
            "Epoch 1/100\n",
            "19/19 [==============================] - 7s 399ms/step - loss: 0.6928 - accuracy: 0.7400 - val_loss: 0.6990 - val_accuracy: 0.7800\n",
            "Epoch 2/100\n",
            "19/19 [==============================] - 5s 293ms/step - loss: 0.6725 - accuracy: 0.7483 - val_loss: 0.6162 - val_accuracy: 0.8050\n",
            "Epoch 3/100\n",
            "19/19 [==============================] - 6s 299ms/step - loss: 0.6413 - accuracy: 0.7783 - val_loss: 0.6313 - val_accuracy: 0.8000\n",
            "Epoch 4/100\n",
            "19/19 [==============================] - 7s 363ms/step - loss: 0.6946 - accuracy: 0.7517 - val_loss: 0.6353 - val_accuracy: 0.8000\n",
            "Epoch 5/100\n",
            "19/19 [==============================] - 7s 367ms/step - loss: 0.6728 - accuracy: 0.7850 - val_loss: 0.6605 - val_accuracy: 0.7450\n",
            "Epoch 6/100\n",
            "19/19 [==============================] - 6s 297ms/step - loss: 0.6641 - accuracy: 0.7533 - val_loss: 0.6331 - val_accuracy: 0.7900\n",
            "Epoch 7/100\n",
            "19/19 [==============================] - 6s 298ms/step - loss: 0.6531 - accuracy: 0.7883 - val_loss: 0.6161 - val_accuracy: 0.8100\n",
            "Epoch 8/100\n",
            "19/19 [==============================] - 7s 360ms/step - loss: 0.6386 - accuracy: 0.7833 - val_loss: 0.6385 - val_accuracy: 0.7700\n",
            "Epoch 9/100\n",
            "19/19 [==============================] - 7s 360ms/step - loss: 0.6690 - accuracy: 0.7667 - val_loss: 0.6687 - val_accuracy: 0.7800\n",
            "Epoch 10/100\n",
            "19/19 [==============================] - 7s 358ms/step - loss: 0.6710 - accuracy: 0.7617 - val_loss: 0.6240 - val_accuracy: 0.8000\n",
            "Epoch 11/100\n",
            "19/19 [==============================] - 7s 359ms/step - loss: 0.6483 - accuracy: 0.7783 - val_loss: 0.6709 - val_accuracy: 0.7450\n",
            "Epoch 12/100\n",
            "19/19 [==============================] - 7s 357ms/step - loss: 0.6631 - accuracy: 0.7567 - val_loss: 0.6522 - val_accuracy: 0.7700\n",
            "Epoch 13/100\n",
            "19/19 [==============================] - 5s 292ms/step - loss: 0.6505 - accuracy: 0.7817 - val_loss: 0.6455 - val_accuracy: 0.7850\n",
            "Epoch 14/100\n",
            "19/19 [==============================] - 5s 291ms/step - loss: 0.6344 - accuracy: 0.7867 - val_loss: 0.6290 - val_accuracy: 0.7900\n",
            "Epoch 15/100\n",
            "19/19 [==============================] - 7s 359ms/step - loss: 0.6665 - accuracy: 0.7700 - val_loss: 0.6191 - val_accuracy: 0.7950\n",
            "Epoch 16/100\n",
            "19/19 [==============================] - 7s 362ms/step - loss: 0.6591 - accuracy: 0.7767 - val_loss: 0.6584 - val_accuracy: 0.7400\n",
            "Epoch 17/100\n",
            "19/19 [==============================] - 7s 361ms/step - loss: 0.6466 - accuracy: 0.7667 - val_loss: 0.6463 - val_accuracy: 0.7800\n",
            "Epoch 18/100\n",
            "19/19 [==============================] - 7s 363ms/step - loss: 0.6477 - accuracy: 0.7800 - val_loss: 0.6378 - val_accuracy: 0.7900\n",
            "Epoch 19/100\n",
            "19/19 [==============================] - 6s 295ms/step - loss: 0.6674 - accuracy: 0.7550 - val_loss: 0.6298 - val_accuracy: 0.8000\n",
            "Epoch 20/100\n",
            "19/19 [==============================] - 7s 362ms/step - loss: 0.6473 - accuracy: 0.7783 - val_loss: 0.6463 - val_accuracy: 0.7850\n",
            "Epoch 21/100\n",
            "19/19 [==============================] - 7s 359ms/step - loss: 0.6899 - accuracy: 0.7517 - val_loss: 0.6789 - val_accuracy: 0.7600\n",
            "Epoch 22/100\n",
            "19/19 [==============================] - 5s 293ms/step - loss: 0.6751 - accuracy: 0.7617 - val_loss: 0.6565 - val_accuracy: 0.7350\n",
            "Epoch 23/100\n",
            "19/19 [==============================] - 7s 360ms/step - loss: 0.6322 - accuracy: 0.7867 - val_loss: 0.6360 - val_accuracy: 0.7850\n",
            "Epoch 24/100\n",
            "19/19 [==============================] - 7s 360ms/step - loss: 0.6502 - accuracy: 0.7800 - val_loss: 0.6491 - val_accuracy: 0.7600\n",
            "Epoch 25/100\n",
            "19/19 [==============================] - 7s 359ms/step - loss: 0.6556 - accuracy: 0.7600 - val_loss: 0.6266 - val_accuracy: 0.7800\n",
            "Epoch 26/100\n",
            "19/19 [==============================] - 5s 293ms/step - loss: 0.6277 - accuracy: 0.7983 - val_loss: 0.6511 - val_accuracy: 0.7500\n",
            "Epoch 27/100\n",
            "19/19 [==============================] - 5s 293ms/step - loss: 0.6483 - accuracy: 0.7917 - val_loss: 0.6362 - val_accuracy: 0.7850\n",
            "Epoch 28/100\n",
            "19/19 [==============================] - 6s 296ms/step - loss: 0.6250 - accuracy: 0.7950 - val_loss: 0.6444 - val_accuracy: 0.7600\n",
            "Epoch 29/100\n",
            "19/19 [==============================] - 7s 360ms/step - loss: 0.6483 - accuracy: 0.7817 - val_loss: 0.6498 - val_accuracy: 0.7950\n",
            "Epoch 30/100\n",
            "19/19 [==============================] - 7s 362ms/step - loss: 0.6435 - accuracy: 0.7750 - val_loss: 0.6277 - val_accuracy: 0.7900\n",
            "Epoch 31/100\n",
            "19/19 [==============================] - 7s 359ms/step - loss: 0.6547 - accuracy: 0.7700 - val_loss: 0.6461 - val_accuracy: 0.7700\n",
            "Epoch 32/100\n",
            "19/19 [==============================] - 6s 296ms/step - loss: 0.6602 - accuracy: 0.7750 - val_loss: 0.6771 - val_accuracy: 0.7350\n",
            "Epoch 33/100\n",
            "19/19 [==============================] - 5s 293ms/step - loss: 0.6711 - accuracy: 0.7467 - val_loss: 0.6746 - val_accuracy: 0.7300\n",
            "Epoch 34/100\n",
            "19/19 [==============================] - 7s 360ms/step - loss: 0.6488 - accuracy: 0.7700 - val_loss: 0.6276 - val_accuracy: 0.8000\n",
            "Epoch 35/100\n",
            "19/19 [==============================] - 7s 360ms/step - loss: 0.6274 - accuracy: 0.7850 - val_loss: 0.6357 - val_accuracy: 0.7800\n",
            "Epoch 36/100\n",
            "19/19 [==============================] - 6s 295ms/step - loss: 0.6264 - accuracy: 0.7867 - val_loss: 0.6431 - val_accuracy: 0.7650\n",
            "Epoch 37/100\n",
            "19/19 [==============================] - 6s 294ms/step - loss: 0.6318 - accuracy: 0.7700 - val_loss: 0.6327 - val_accuracy: 0.8000\n",
            "Epoch 38/100\n",
            "19/19 [==============================] - 7s 360ms/step - loss: 0.6380 - accuracy: 0.7750 - val_loss: 0.6317 - val_accuracy: 0.8000\n",
            "Epoch 39/100\n",
            "19/19 [==============================] - 7s 361ms/step - loss: 0.6308 - accuracy: 0.7967 - val_loss: 0.6496 - val_accuracy: 0.7800\n",
            "Epoch 40/100\n",
            "19/19 [==============================] - 6s 294ms/step - loss: 0.6665 - accuracy: 0.7733 - val_loss: 0.6465 - val_accuracy: 0.7950\n",
            "Epoch 41/100\n",
            "19/19 [==============================] - 7s 363ms/step - loss: 0.6537 - accuracy: 0.7617 - val_loss: 0.6814 - val_accuracy: 0.7300\n",
            "Epoch 42/100\n",
            "19/19 [==============================] - 7s 360ms/step - loss: 0.6241 - accuracy: 0.7900 - val_loss: 0.6266 - val_accuracy: 0.8100\n",
            "Epoch 43/100\n",
            "19/19 [==============================] - 7s 362ms/step - loss: 0.6164 - accuracy: 0.7767 - val_loss: 0.6680 - val_accuracy: 0.7550\n",
            "Epoch 44/100\n",
            "19/19 [==============================] - 6s 294ms/step - loss: 0.6302 - accuracy: 0.7833 - val_loss: 0.6390 - val_accuracy: 0.7850\n",
            "Epoch 45/100\n",
            "19/19 [==============================] - 6s 296ms/step - loss: 0.6395 - accuracy: 0.7800 - val_loss: 0.6418 - val_accuracy: 0.7850\n",
            "Epoch 46/100\n",
            "19/19 [==============================] - 7s 360ms/step - loss: 0.6356 - accuracy: 0.7833 - val_loss: 0.6346 - val_accuracy: 0.8050\n",
            "Epoch 47/100\n",
            "19/19 [==============================] - 6s 295ms/step - loss: 0.6179 - accuracy: 0.8000 - val_loss: 0.6650 - val_accuracy: 0.7900\n",
            "Epoch 48/100\n",
            "19/19 [==============================] - 7s 360ms/step - loss: 0.6481 - accuracy: 0.7667 - val_loss: 0.6326 - val_accuracy: 0.7850\n",
            "Epoch 49/100\n",
            "19/19 [==============================] - 5s 294ms/step - loss: 0.6474 - accuracy: 0.7767 - val_loss: 0.6329 - val_accuracy: 0.7850\n",
            "Epoch 50/100\n",
            "19/19 [==============================] - 6s 294ms/step - loss: 0.6200 - accuracy: 0.7833 - val_loss: 0.6542 - val_accuracy: 0.7750\n",
            "Epoch 51/100\n",
            "19/19 [==============================] - 6s 294ms/step - loss: 0.6284 - accuracy: 0.7867 - val_loss: 0.6388 - val_accuracy: 0.7750\n",
            "Epoch 52/100\n",
            "19/19 [==============================] - 7s 362ms/step - loss: 0.6315 - accuracy: 0.7717 - val_loss: 0.6368 - val_accuracy: 0.7900\n",
            "Epoch 53/100\n",
            "19/19 [==============================] - 5s 294ms/step - loss: 0.6488 - accuracy: 0.7800 - val_loss: 0.6442 - val_accuracy: 0.7600\n",
            "Epoch 54/100\n",
            "19/19 [==============================] - 7s 361ms/step - loss: 0.6449 - accuracy: 0.7900 - val_loss: 0.6562 - val_accuracy: 0.7500\n",
            "Epoch 55/100\n",
            "19/19 [==============================] - 5s 294ms/step - loss: 0.6443 - accuracy: 0.7683 - val_loss: 0.6376 - val_accuracy: 0.7750\n",
            "Epoch 56/100\n",
            "19/19 [==============================] - 7s 361ms/step - loss: 0.6193 - accuracy: 0.7850 - val_loss: 0.6367 - val_accuracy: 0.8100\n",
            "Epoch 57/100\n",
            "19/19 [==============================] - 5s 294ms/step - loss: 0.6659 - accuracy: 0.7667 - val_loss: 0.6286 - val_accuracy: 0.7800\n",
            "Epoch 58/100\n",
            "19/19 [==============================] - 6s 294ms/step - loss: 0.6309 - accuracy: 0.7767 - val_loss: 0.6301 - val_accuracy: 0.7900\n",
            "Epoch 59/100\n",
            "19/19 [==============================] - 7s 360ms/step - loss: 0.6439 - accuracy: 0.7750 - val_loss: 0.6260 - val_accuracy: 0.8000\n",
            "Epoch 60/100\n",
            "19/19 [==============================] - 5s 294ms/step - loss: 0.6291 - accuracy: 0.7550 - val_loss: 0.7003 - val_accuracy: 0.7500\n",
            "Epoch 61/100\n",
            "19/19 [==============================] - 7s 362ms/step - loss: 0.6183 - accuracy: 0.7817 - val_loss: 0.6241 - val_accuracy: 0.7900\n",
            "Epoch 62/100\n",
            "19/19 [==============================] - 7s 359ms/step - loss: 0.6418 - accuracy: 0.7783 - val_loss: 0.6724 - val_accuracy: 0.7600\n",
            "Epoch 63/100\n",
            "19/19 [==============================] - 7s 361ms/step - loss: 0.6227 - accuracy: 0.7933 - val_loss: 0.6561 - val_accuracy: 0.7500\n",
            "Epoch 64/100\n",
            "19/19 [==============================] - 7s 359ms/step - loss: 0.6198 - accuracy: 0.7967 - val_loss: 0.6260 - val_accuracy: 0.7800\n",
            "Epoch 65/100\n",
            "19/19 [==============================] - 7s 361ms/step - loss: 0.6253 - accuracy: 0.7850 - val_loss: 0.6306 - val_accuracy: 0.7750\n",
            "Epoch 66/100\n",
            "19/19 [==============================] - 7s 360ms/step - loss: 0.6312 - accuracy: 0.7900 - val_loss: 0.6425 - val_accuracy: 0.7850\n",
            "Epoch 67/100\n",
            "19/19 [==============================] - 6s 294ms/step - loss: 0.5891 - accuracy: 0.8033 - val_loss: 0.6246 - val_accuracy: 0.7900\n",
            "Epoch 68/100\n",
            "19/19 [==============================] - 6s 294ms/step - loss: 0.6357 - accuracy: 0.7867 - val_loss: 0.6327 - val_accuracy: 0.7750\n",
            "Epoch 69/100\n",
            "19/19 [==============================] - 7s 361ms/step - loss: 0.6173 - accuracy: 0.7900 - val_loss: 0.6562 - val_accuracy: 0.7800\n",
            "Epoch 70/100\n",
            "19/19 [==============================] - 7s 360ms/step - loss: 0.6136 - accuracy: 0.7833 - val_loss: 0.6657 - val_accuracy: 0.8000\n",
            "Epoch 71/100\n",
            "19/19 [==============================] - 6s 296ms/step - loss: 0.6353 - accuracy: 0.7800 - val_loss: 0.6340 - val_accuracy: 0.7700\n",
            "Epoch 72/100\n",
            "19/19 [==============================] - 7s 360ms/step - loss: 0.6274 - accuracy: 0.7683 - val_loss: 0.6588 - val_accuracy: 0.7700\n",
            "Epoch 73/100\n",
            "19/19 [==============================] - 6s 295ms/step - loss: 0.6283 - accuracy: 0.7833 - val_loss: 0.6275 - val_accuracy: 0.8000\n",
            "Epoch 74/100\n",
            "19/19 [==============================] - 6s 293ms/step - loss: 0.6165 - accuracy: 0.7950 - val_loss: 0.6316 - val_accuracy: 0.7950\n",
            "Epoch 75/100\n",
            "19/19 [==============================] - 6s 294ms/step - loss: 0.6380 - accuracy: 0.7650 - val_loss: 0.6373 - val_accuracy: 0.7750\n",
            "Epoch 76/100\n",
            "19/19 [==============================] - 7s 361ms/step - loss: 0.6108 - accuracy: 0.7917 - val_loss: 0.6585 - val_accuracy: 0.7800\n",
            "Epoch 77/100\n",
            "19/19 [==============================] - 5s 293ms/step - loss: 0.6334 - accuracy: 0.7733 - val_loss: 0.6718 - val_accuracy: 0.7250\n",
            "Epoch 78/100\n",
            "19/19 [==============================] - 6s 295ms/step - loss: 0.5843 - accuracy: 0.7967 - val_loss: 0.6351 - val_accuracy: 0.7900\n",
            "Epoch 79/100\n",
            "19/19 [==============================] - 7s 359ms/step - loss: 0.5915 - accuracy: 0.7833 - val_loss: 0.6431 - val_accuracy: 0.7500\n",
            "Epoch 80/100\n",
            "19/19 [==============================] - 6s 294ms/step - loss: 0.6388 - accuracy: 0.7750 - val_loss: 0.6554 - val_accuracy: 0.7500\n",
            "Epoch 81/100\n",
            "19/19 [==============================] - 5s 292ms/step - loss: 0.5887 - accuracy: 0.7967 - val_loss: 0.6389 - val_accuracy: 0.7700\n",
            "Epoch 82/100\n",
            "19/19 [==============================] - 7s 360ms/step - loss: 0.6170 - accuracy: 0.7817 - val_loss: 0.6587 - val_accuracy: 0.7950\n",
            "Epoch 83/100\n",
            "19/19 [==============================] - 5s 293ms/step - loss: 0.6158 - accuracy: 0.7783 - val_loss: 0.6260 - val_accuracy: 0.7750\n",
            "Epoch 84/100\n",
            "19/19 [==============================] - 5s 293ms/step - loss: 0.6101 - accuracy: 0.7867 - val_loss: 0.6635 - val_accuracy: 0.7850\n",
            "Epoch 85/100\n",
            "19/19 [==============================] - 6s 295ms/step - loss: 0.6299 - accuracy: 0.7933 - val_loss: 0.6534 - val_accuracy: 0.7600\n",
            "Epoch 86/100\n",
            "19/19 [==============================] - 6s 294ms/step - loss: 0.5937 - accuracy: 0.7933 - val_loss: 0.6286 - val_accuracy: 0.7950\n",
            "Epoch 87/100\n",
            "19/19 [==============================] - 6s 296ms/step - loss: 0.6052 - accuracy: 0.8033 - val_loss: 0.6434 - val_accuracy: 0.7550\n",
            "Epoch 88/100\n",
            "19/19 [==============================] - 6s 295ms/step - loss: 0.6153 - accuracy: 0.7883 - val_loss: 0.6195 - val_accuracy: 0.7800\n",
            "Epoch 89/100\n",
            "19/19 [==============================] - 7s 361ms/step - loss: 0.6283 - accuracy: 0.7883 - val_loss: 0.6435 - val_accuracy: 0.7750\n",
            "Epoch 90/100\n",
            "19/19 [==============================] - 5s 293ms/step - loss: 0.6194 - accuracy: 0.7817 - val_loss: 0.6614 - val_accuracy: 0.7350\n",
            "Epoch 91/100\n",
            "19/19 [==============================] - 7s 360ms/step - loss: 0.6300 - accuracy: 0.7833 - val_loss: 0.6450 - val_accuracy: 0.7650\n",
            "Epoch 92/100\n",
            "19/19 [==============================] - 7s 360ms/step - loss: 0.6399 - accuracy: 0.7883 - val_loss: 0.6198 - val_accuracy: 0.7950\n",
            "Epoch 93/100\n",
            "19/19 [==============================] - 7s 359ms/step - loss: 0.6242 - accuracy: 0.7850 - val_loss: 0.6397 - val_accuracy: 0.7850\n",
            "Epoch 94/100\n",
            "19/19 [==============================] - 5s 293ms/step - loss: 0.6017 - accuracy: 0.7967 - val_loss: 0.6473 - val_accuracy: 0.7550\n",
            "Epoch 95/100\n",
            "19/19 [==============================] - 5s 293ms/step - loss: 0.6174 - accuracy: 0.7617 - val_loss: 0.6615 - val_accuracy: 0.7700\n",
            "Epoch 96/100\n",
            "19/19 [==============================] - 7s 361ms/step - loss: 0.6299 - accuracy: 0.7750 - val_loss: 0.6623 - val_accuracy: 0.7550\n",
            "Epoch 97/100\n",
            "19/19 [==============================] - 6s 294ms/step - loss: 0.6176 - accuracy: 0.7700 - val_loss: 0.6958 - val_accuracy: 0.7400\n",
            "Epoch 98/100\n",
            "19/19 [==============================] - 7s 362ms/step - loss: 0.6156 - accuracy: 0.7783 - val_loss: 0.6424 - val_accuracy: 0.7750\n",
            "Epoch 99/100\n",
            "19/19 [==============================] - 6s 294ms/step - loss: 0.6360 - accuracy: 0.7733 - val_loss: 0.6450 - val_accuracy: 0.7750\n",
            "Epoch 100/100\n",
            "19/19 [==============================] - 7s 361ms/step - loss: 0.5998 - accuracy: 0.7917 - val_loss: 0.6258 - val_accuracy: 0.7900\n"
          ]
        }
      ]
    },
    {
      "cell_type": "markdown",
      "source": [
        "**Preprocess the Test Dataframe**"
      ],
      "metadata": {
        "id": "F6N0ic6nGkcI"
      }
    },
    {
      "cell_type": "code",
      "source": [
        "X_test_word_ids, test_attention_masks, test_token_type_ids , y_test = preprocess_df(X_test , y_test)"
      ],
      "metadata": {
        "id": "vRtJsQfcbRFq"
      },
      "execution_count": 46,
      "outputs": []
    },
    {
      "cell_type": "markdown",
      "source": [
        "**Evaluate the Model with the Test Data**"
      ],
      "metadata": {
        "id": "u0friWpSGo5y"
      }
    },
    {
      "cell_type": "code",
      "source": [
        "loss, accuracy = model.evaluate([X_test_word_ids, test_attention_masks, test_token_type_ids], y_test)\n",
        "print(\"Test Loss:\", loss)\n",
        "print(\"Test Accuracy:\", accuracy)"
      ],
      "metadata": {
        "colab": {
          "base_uri": "https://localhost:8080/"
        },
        "id": "TOOK-gNBbRIJ",
        "outputId": "3527d998-e153-449f-bcfd-9da0b320fde5"
      },
      "execution_count": 47,
      "outputs": [
        {
          "output_type": "stream",
          "name": "stdout",
          "text": [
            "7/7 [==============================] - 1s 191ms/step - loss: 0.7769 - accuracy: 0.7250\n",
            "Test Loss: 0.7768750190734863\n",
            "Test Accuracy: 0.7250000238418579\n"
          ]
        }
      ]
    },
    {
      "cell_type": "code",
      "source": [
        "# plot loss during training\n",
        "plt.subplot(211)\n",
        "plt.title('Loss')\n",
        "plt.plot(history.history['loss'], label='train')\n",
        "plt.plot(history.history['val_loss'], label='test')\n",
        "plt.legend()\n",
        "# plot accuracy during training\n",
        "plt.subplot(212)\n",
        "plt.title('Accuracy')\n",
        "plt.plot(history.history['accuracy'], label='train')\n",
        "plt.plot(history.history['val_accuracy'], label='test')\n",
        "plt.legend()\n",
        "plt.show()"
      ],
      "metadata": {
        "colab": {
          "base_uri": "https://localhost:8080/",
          "height": 452
        },
        "id": "vgrH6Vw4IPVy",
        "outputId": "800a8fd0-7b11-4542-83c5-17f9b6194eda"
      },
      "execution_count": 49,
      "outputs": [
        {
          "output_type": "display_data",
          "data": {
            "text/plain": [
              "<Figure size 640x480 with 2 Axes>"
            ],
            "image/png": "[encoded data removed]"
          },
          "metadata": {}
        }
      ]
    },
    {
      "cell_type": "markdown",
      "source": [
        "**Save the Model and the Model's Weights for Future use**"
      ],
      "metadata": {
        "id": "nqhi4XQ3GtM5"
      }
    },
    {
      "cell_type": "code",
      "source": [
        "# Save the model and the weights of the model\n",
        "model.save('./my_model')\n",
        "model.save_weights('model_weights.h5')\n"
      ],
      "metadata": {
        "colab": {
          "base_uri": "https://localhost:8080/"
        },
        "id": "TmoA--O5bRKz",
        "outputId": "97e73010-9171-40ca-c76a-a1db04a057fa"
      },
      "execution_count": 50,
      "outputs": [
        {
          "output_type": "stream",
          "name": "stderr",
          "text": [
            "WARNING:absl:Found untraced functions such as _update_step_xla, restored_function_body, restored_function_body, restored_function_body, restored_function_body while saving (showing 5 of 365). These functions will not be directly callable after loading.\n"
          ]
        }
      ]
    },
    {
      "cell_type": "code",
      "source": [],
      "metadata": {
        "id": "xYJPJ5IPbRNR"
      },
      "execution_count": 27,
      "outputs": []
    },
    {
      "cell_type": "code",
      "source": [
        "# from tensorflow.keras.models import load_model\n",
        "\n",
        "# # Load the saved model\n",
        "# loaded_model = load_model('./my_model')\n",
        "\n",
        "# Load the saved weights into the model\n",
        "# model.load_weights('model_weights.h5')\n",
        "\n",
        "# # Use the loaded model for prediction or evaluation\n",
        "# predictions = loaded_model.predict([X_test_word_ids, attention_masks_test, token_type_ids_test])\n"
      ],
      "metadata": {
        "id": "AyjSnL9tbRPm"
      },
      "execution_count": 28,
      "outputs": []
    },
    {
      "cell_type": "code",
      "source": [],
      "metadata": {
        "id": "Zm3ymkSlbRSC"
      },
      "execution_count": 28,
      "outputs": []
    },
    {
      "cell_type": "code",
      "source": [],
      "metadata": {
        "id": "bJ3ezK1xbRUO"
      },
      "execution_count": 28,
      "outputs": []
    }
  ]
}